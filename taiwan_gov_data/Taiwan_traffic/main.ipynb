{
 "cells": [
  {
   "cell_type": "code",
   "execution_count": 1,
   "metadata": {},
   "outputs": [],
   "source": [
    "import pandas as pd"
   ]
  },
  {
   "attachments": {},
   "cell_type": "markdown",
   "metadata": {},
   "source": [
    "# Read Data"
   ]
  },
  {
   "cell_type": "code",
   "execution_count": 17,
   "metadata": {},
   "outputs": [
    {
     "name": "stdout",
     "output_type": "stream",
     "text": [
      "<class 'pandas.core.frame.DataFrame'>\n",
      "RangeIndex: 2205 entries, 0 to 2204\n",
      "Data columns (total 51 columns):\n",
      " #   Column                   Non-Null Count  Dtype  \n",
      "---  ------                   --------------  -----  \n",
      " 0   發生年度                     2205 non-null   object \n",
      " 1   發生月份                     2205 non-null   float64\n",
      " 2   發生日期                     2205 non-null   float64\n",
      " 3   發生時間                     2205 non-null   float64\n",
      " 4   事故類別名稱                   2205 non-null   object \n",
      " 5   處理單位名稱警局層                2205 non-null   object \n",
      " 6   發生地點                     2205 non-null   object \n",
      " 7   天候名稱                     2205 non-null   object \n",
      " 8   光線名稱                     2205 non-null   object \n",
      " 9   道路類別-第1當事者-名稱            2205 non-null   object \n",
      " 10  速限-第1當事者                 2205 non-null   float64\n",
      " 11  道路型態大類別名稱                2205 non-null   object \n",
      " 12  道路型態子類別名稱                2205 non-null   object \n",
      " 13  事故位置大類別名稱                2205 non-null   object \n",
      " 14  事故位置子類別名稱                2205 non-null   object \n",
      " 15  路面狀況-路面鋪裝名稱              2205 non-null   object \n",
      " 16  路面狀況-路面狀態名稱              2205 non-null   object \n",
      " 17  路面狀況-路面缺陷名稱              2205 non-null   object \n",
      " 18  道路障礙-障礙物名稱               2205 non-null   object \n",
      " 19  道路障礙-視距品質名稱              2205 non-null   object \n",
      " 20  道路障礙-視距名稱                2205 non-null   object \n",
      " 21  號誌-號誌種類名稱                2205 non-null   object \n",
      " 22  號誌-號誌動作名稱                2205 non-null   object \n",
      " 23  車道劃分設施-分向設施大類別名稱         2205 non-null   object \n",
      " 24  車道劃分設施-分向設施子類別名稱         2205 non-null   object \n",
      " 25  車道劃分設施-分道設施-快車道或一般車道間名稱  2205 non-null   object \n",
      " 26  車道劃分設施-分道設施-快慢車道間名稱      2205 non-null   object \n",
      " 27  車道劃分設施-分道設施-路面邊線名稱       2205 non-null   object \n",
      " 28  事故類型及型態大類別名稱             2205 non-null   object \n",
      " 29  事故類型及型態子類別名稱             2205 non-null   object \n",
      " 30  肇因研判大類別名稱-主要             2205 non-null   object \n",
      " 31  肇因研判子類別名稱-主要             2205 non-null   object \n",
      " 32  死亡受傷人數                   2205 non-null   object \n",
      " 33  當事者順位                    2205 non-null   float64\n",
      " 34  當事者區分-類別-大類別名稱-車種        1877 non-null   object \n",
      " 35  當事者區分-類別-子類別名稱-車種        1877 non-null   object \n",
      " 36  當事者屬-性-別名稱               2205 non-null   object \n",
      " 37  當事者事故發生時年齡               2205 non-null   float64\n",
      " 38  保護裝備名稱                   1877 non-null   object \n",
      " 39  行動電話或電腦或其他相類功能裝置名稱       1877 non-null   object \n",
      " 40  當事者行動狀態大類別名稱             1877 non-null   object \n",
      " 41  當事者行動狀態子類別名稱             1877 non-null   object \n",
      " 42  車輛撞擊部位大類別名稱-最初           1876 non-null   object \n",
      " 43  車輛撞擊部位子類別名稱-最初           1876 non-null   object \n",
      " 44  車輛撞擊部位大類別名稱-其他           562 non-null    object \n",
      " 45  車輛撞擊部位子類別名稱-其他           562 non-null    object \n",
      " 46  肇因研判大類別名稱-個別             2205 non-null   object \n",
      " 47  肇因研判子類別名稱-個別             2205 non-null   object \n",
      " 48  肇事逃逸類別名稱-是否肇逃            2205 non-null   object \n",
      " 49  經度                       2205 non-null   float64\n",
      " 50  緯度                       2205 non-null   float64\n",
      "dtypes: float64(8), object(43)\n",
      "memory usage: 878.7+ KB\n"
     ]
    }
   ],
   "source": [
    "# A1_traffic\n",
    "A1_traffic = pd.read_csv(\"./data/A1_traffic_202301_to_202306.csv\")\n",
    "A1_traffic=A1_traffic.drop(A1_traffic.tail(2).index)\n",
    "A1_traffic.info()"
   ]
  },
  {
   "cell_type": "code",
   "execution_count": 33,
   "metadata": {},
   "outputs": [
    {
     "name": "stderr",
     "output_type": "stream",
     "text": [
      "C:\\Users\\maxt7\\AppData\\Local\\Temp\\ipykernel_25544\\3491336249.py:5: DtypeWarning: Columns (0) have mixed types. Specify dtype option on import or set low_memory=False.\n",
      "  tmpA2_traffic = pd.read_csv(f\"./data/A2_traffic_{time}.csv\")\n",
      "C:\\Users\\maxt7\\AppData\\Local\\Temp\\ipykernel_25544\\3491336249.py:5: DtypeWarning: Columns (0) have mixed types. Specify dtype option on import or set low_memory=False.\n",
      "  tmpA2_traffic = pd.read_csv(f\"./data/A2_traffic_{time}.csv\")\n",
      "C:\\Users\\maxt7\\AppData\\Local\\Temp\\ipykernel_25544\\3491336249.py:5: DtypeWarning: Columns (0) have mixed types. Specify dtype option on import or set low_memory=False.\n",
      "  tmpA2_traffic = pd.read_csv(f\"./data/A2_traffic_{time}.csv\")\n",
      "C:\\Users\\maxt7\\AppData\\Local\\Temp\\ipykernel_25544\\3491336249.py:5: DtypeWarning: Columns (0) have mixed types. Specify dtype option on import or set low_memory=False.\n",
      "  tmpA2_traffic = pd.read_csv(f\"./data/A2_traffic_{time}.csv\")\n",
      "C:\\Users\\maxt7\\AppData\\Local\\Temp\\ipykernel_25544\\3491336249.py:5: DtypeWarning: Columns (0) have mixed types. Specify dtype option on import or set low_memory=False.\n",
      "  tmpA2_traffic = pd.read_csv(f\"./data/A2_traffic_{time}.csv\")\n",
      "C:\\Users\\maxt7\\AppData\\Local\\Temp\\ipykernel_25544\\3491336249.py:5: DtypeWarning: Columns (0) have mixed types. Specify dtype option on import or set low_memory=False.\n",
      "  tmpA2_traffic = pd.read_csv(f\"./data/A2_traffic_{time}.csv\")\n"
     ]
    },
    {
     "name": "stdout",
     "output_type": "stream",
     "text": [
      "<class 'pandas.core.frame.DataFrame'>\n",
      "Int64Index: 396197 entries, 0 to 17406\n",
      "Data columns (total 51 columns):\n",
      " #   Column                   Non-Null Count   Dtype  \n",
      "---  ------                   --------------   -----  \n",
      " 0   發生年度                     396197 non-null  object \n",
      " 1   發生月份                     396197 non-null  float64\n",
      " 2   發生日期                     396197 non-null  float64\n",
      " 3   發生時間                     396197 non-null  float64\n",
      " 4   事故類別名稱                   396197 non-null  object \n",
      " 5   處理單位名稱警局層                396197 non-null  object \n",
      " 6   發生地點                     396197 non-null  object \n",
      " 7   天候名稱                     396197 non-null  object \n",
      " 8   光線名稱                     396197 non-null  object \n",
      " 9   道路類別-第1當事者-名稱            396197 non-null  object \n",
      " 10  速限-第1當事者                 396197 non-null  float64\n",
      " 11  道路型態大類別名稱                396197 non-null  object \n",
      " 12  道路型態子類別名稱                396197 non-null  object \n",
      " 13  事故位置大類別名稱                396197 non-null  object \n",
      " 14  事故位置子類別名稱                396197 non-null  object \n",
      " 15  路面狀況-路面鋪裝名稱              396197 non-null  object \n",
      " 16  路面狀況-路面狀態名稱              396197 non-null  object \n",
      " 17  路面狀況-路面缺陷名稱              396197 non-null  object \n",
      " 18  道路障礙-障礙物名稱               396197 non-null  object \n",
      " 19  道路障礙-視距品質名稱              396197 non-null  object \n",
      " 20  道路障礙-視距名稱                396197 non-null  object \n",
      " 21  號誌-號誌種類名稱                396197 non-null  object \n",
      " 22  號誌-號誌動作名稱                396197 non-null  object \n",
      " 23  車道劃分設施-分向設施大類別名稱         396197 non-null  object \n",
      " 24  車道劃分設施-分向設施子類別名稱         396197 non-null  object \n",
      " 25  車道劃分設施-分道設施-快車道或一般車道間名稱  396197 non-null  object \n",
      " 26  車道劃分設施-分道設施-快慢車道間名稱      396197 non-null  object \n",
      " 27  車道劃分設施-分道設施-路面邊線名稱       396197 non-null  object \n",
      " 28  事故類型及型態大類別名稱             396197 non-null  object \n",
      " 29  事故類型及型態子類別名稱             396197 non-null  object \n",
      " 30  肇因研判大類別名稱-主要             396197 non-null  object \n",
      " 31  肇因研判子類別名稱-主要             396197 non-null  object \n",
      " 32  死亡受傷人數                   396197 non-null  object \n",
      " 33  當事者順位                    396197 non-null  float64\n",
      " 34  當事者區分-類別-大類別名稱-車種        374515 non-null  object \n",
      " 35  當事者區分-類別-子類別名稱-車種        374492 non-null  object \n",
      " 36  當事者屬-性-別名稱               396197 non-null  object \n",
      " 37  當事者事故發生時年齡               396197 non-null  float64\n",
      " 38  保護裝備名稱                   375948 non-null  object \n",
      " 39  行動電話或電腦或其他相類功能裝置名稱       375945 non-null  object \n",
      " 40  當事者行動狀態大類別名稱             375957 non-null  object \n",
      " 41  當事者行動狀態子類別名稱             375957 non-null  object \n",
      " 42  車輛撞擊部位大類別名稱-最初           375569 non-null  object \n",
      " 43  車輛撞擊部位子類別名稱-最初           375569 non-null  object \n",
      " 44  車輛撞擊部位大類別名稱-其他           136221 non-null  object \n",
      " 45  車輛撞擊部位子類別名稱-其他           136221 non-null  object \n",
      " 46  肇因研判大類別名稱-個別             396186 non-null  object \n",
      " 47  肇因研判子類別名稱-個別             396186 non-null  object \n",
      " 48  肇事逃逸類別名稱-是否肇逃            396191 non-null  object \n",
      " 49  經度                       396197 non-null  float64\n",
      " 50  緯度                       396197 non-null  float64\n",
      "dtypes: float64(8), object(43)\n",
      "memory usage: 157.2+ MB\n"
     ]
    }
   ],
   "source": [
    "# A2_traffic\n",
    "time = 202301\n",
    "A2_traffic = None\n",
    "for idx in range(0,6):\n",
    "    tmpA2_traffic = pd.read_csv(f\"./data/A2_traffic_{time}.csv\")\n",
    "    tmpA2_traffic = tmpA2_traffic.drop(tmpA2_traffic.tail(2).index)\n",
    "    A2_traffic = pd.concat([A2_traffic, tmpA2_traffic], axis=0)\n",
    "    time+=1"
   ]
  },
  {
   "cell_type": "code",
   "execution_count": 34,
   "metadata": {},
   "outputs": [
    {
     "name": "stdout",
     "output_type": "stream",
     "text": [
      "<class 'pandas.core.frame.DataFrame'>\n",
      "Int64Index: 396197 entries, 0 to 17406\n",
      "Data columns (total 51 columns):\n",
      " #   Column                   Non-Null Count   Dtype  \n",
      "---  ------                   --------------   -----  \n",
      " 0   發生年度                     396197 non-null  object \n",
      " 1   發生月份                     396197 non-null  float64\n",
      " 2   發生日期                     396197 non-null  float64\n",
      " 3   發生時間                     396197 non-null  float64\n",
      " 4   事故類別名稱                   396197 non-null  object \n",
      " 5   處理單位名稱警局層                396197 non-null  object \n",
      " 6   發生地點                     396197 non-null  object \n",
      " 7   天候名稱                     396197 non-null  object \n",
      " 8   光線名稱                     396197 non-null  object \n",
      " 9   道路類別-第1當事者-名稱            396197 non-null  object \n",
      " 10  速限-第1當事者                 396197 non-null  float64\n",
      " 11  道路型態大類別名稱                396197 non-null  object \n",
      " 12  道路型態子類別名稱                396197 non-null  object \n",
      " 13  事故位置大類別名稱                396197 non-null  object \n",
      " 14  事故位置子類別名稱                396197 non-null  object \n",
      " 15  路面狀況-路面鋪裝名稱              396197 non-null  object \n",
      " 16  路面狀況-路面狀態名稱              396197 non-null  object \n",
      " 17  路面狀況-路面缺陷名稱              396197 non-null  object \n",
      " 18  道路障礙-障礙物名稱               396197 non-null  object \n",
      " 19  道路障礙-視距品質名稱              396197 non-null  object \n",
      " 20  道路障礙-視距名稱                396197 non-null  object \n",
      " 21  號誌-號誌種類名稱                396197 non-null  object \n",
      " 22  號誌-號誌動作名稱                396197 non-null  object \n",
      " 23  車道劃分設施-分向設施大類別名稱         396197 non-null  object \n",
      " 24  車道劃分設施-分向設施子類別名稱         396197 non-null  object \n",
      " 25  車道劃分設施-分道設施-快車道或一般車道間名稱  396197 non-null  object \n",
      " 26  車道劃分設施-分道設施-快慢車道間名稱      396197 non-null  object \n",
      " 27  車道劃分設施-分道設施-路面邊線名稱       396197 non-null  object \n",
      " 28  事故類型及型態大類別名稱             396197 non-null  object \n",
      " 29  事故類型及型態子類別名稱             396197 non-null  object \n",
      " 30  肇因研判大類別名稱-主要             396197 non-null  object \n",
      " 31  肇因研判子類別名稱-主要             396197 non-null  object \n",
      " 32  死亡受傷人數                   396197 non-null  object \n",
      " 33  當事者順位                    396197 non-null  float64\n",
      " 34  當事者區分-類別-大類別名稱-車種        374515 non-null  object \n",
      " 35  當事者區分-類別-子類別名稱-車種        374492 non-null  object \n",
      " 36  當事者屬-性-別名稱               396197 non-null  object \n",
      " 37  當事者事故發生時年齡               396197 non-null  float64\n",
      " 38  保護裝備名稱                   375948 non-null  object \n",
      " 39  行動電話或電腦或其他相類功能裝置名稱       375945 non-null  object \n",
      " 40  當事者行動狀態大類別名稱             375957 non-null  object \n",
      " 41  當事者行動狀態子類別名稱             375957 non-null  object \n",
      " 42  車輛撞擊部位大類別名稱-最初           375569 non-null  object \n",
      " 43  車輛撞擊部位子類別名稱-最初           375569 non-null  object \n",
      " 44  車輛撞擊部位大類別名稱-其他           136221 non-null  object \n",
      " 45  車輛撞擊部位子類別名稱-其他           136221 non-null  object \n",
      " 46  肇因研判大類別名稱-個別             396186 non-null  object \n",
      " 47  肇因研判子類別名稱-個別             396186 non-null  object \n",
      " 48  肇事逃逸類別名稱-是否肇逃            396191 non-null  object \n",
      " 49  經度                       396197 non-null  float64\n",
      " 50  緯度                       396197 non-null  float64\n",
      "dtypes: float64(8), object(43)\n",
      "memory usage: 157.2+ MB\n"
     ]
    }
   ],
   "source": [
    "A2_traffic.info()"
   ]
  },
  {
   "cell_type": "code",
   "execution_count": 32,
   "metadata": {},
   "outputs": [],
   "source": [
    "data_column = A1_traffic.columns"
   ]
  },
  {
   "attachments": {},
   "cell_type": "markdown",
   "metadata": {},
   "source": [
    "# Preprocessing"
   ]
  },
  {
   "cell_type": "code",
   "execution_count": null,
   "metadata": {},
   "outputs": [],
   "source": []
  }
 ],
 "metadata": {
  "kernelspec": {
   "display_name": "base",
   "language": "python",
   "name": "python3"
  },
  "language_info": {
   "codemirror_mode": {
    "name": "ipython",
    "version": 3
   },
   "file_extension": ".py",
   "mimetype": "text/x-python",
   "name": "python",
   "nbconvert_exporter": "python",
   "pygments_lexer": "ipython3",
   "version": "3.10.9"
  },
  "orig_nbformat": 4
 },
 "nbformat": 4,
 "nbformat_minor": 2
}
