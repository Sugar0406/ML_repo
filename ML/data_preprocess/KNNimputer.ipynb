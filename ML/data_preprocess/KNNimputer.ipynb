{
 "cells": [
  {
   "attachments": {},
   "cell_type": "markdown",
   "metadata": {},
   "source": [
    "# KNN\n",
    "KNN (K-Nearest Neighbors) algorithm\n",
    "\n",
    "一般常見的補值方式 : mean, mode, median</br>\n",
    "而KNN補值法則是使用 K個與缺失資料最相近的點(neighbor)來決定自己的缺失資料。"
   ]
  },
  {
   "attachments": {},
   "cell_type": "markdown",
   "metadata": {},
   "source": [
    "## missing  Values Patterns\n",
    "\n",
    "1. MCAR (Missing Completely at random)</br>\n",
    "the missing value doesn't depend on any other Variable\n",
    "\n",
    "2. MAR (Missing at Random)</br>\n",
    "the probability of missing value depends on the characteristics of observable data\n",
    "\n",
    "3. MNAR (Missing not at random)</br>\n",
    "missing values depend on both characteristics of the data and also on missing values.\n"
   ]
  },
  {
   "cell_type": "code",
   "execution_count": null,
   "metadata": {},
   "outputs": [],
   "source": []
  },
  {
   "cell_type": "code",
   "execution_count": null,
   "metadata": {},
   "outputs": [],
   "source": []
  }
 ],
 "metadata": {
  "language_info": {
   "name": "python"
  },
  "orig_nbformat": 4
 },
 "nbformat": 4,
 "nbformat_minor": 2
}
