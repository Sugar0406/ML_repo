{
 "cells": [
  {
   "attachments": {},
   "cell_type": "markdown",
   "metadata": {},
   "source": [
    "# KNN\n",
    "KNN (K-Nearest Neighbors) algorithm\n",
    "\n",
    "一般常見的補值方式 : mean, mode, median</br>\n",
    "而KNN補值法則是使用 K個與缺失資料最相近的點(neighbor)來決定自己的缺失資料。"
   ]
  },
  {
   "attachments": {},
   "cell_type": "markdown",
   "metadata": {},
   "source": [
    "## missing  Values Patterns\n",
    "\n",
    "1. MCAR (Missing Completely at random)</br>\n",
    "the missing value doesn't depend on any other Variable\n",
    "\n",
    "2. MAR (Missing at Random)</br>\n",
    "the probability of missing value depends on the characteristics of observable data\n",
    "\n",
    "3. MNAR (Missing not at random)</br>\n",
    "missing values depend on both characteristics of the data and also on missing values.\n"
   ]
  },
  {
   "cell_type": "code",
   "execution_count": null,
   "metadata": {},
   "outputs": [
    {
     "ename": "",
     "evalue": "",
     "output_type": "error",
     "traceback": [
      "\u001b[1;31mThe kernel failed to start due to the missing module 'prompt_toolkit.formatted_text'. Consider installing this module.\n",
      "\u001b[1;31mClick <a href='https://aka.ms/kernelFailuresMissingModule'>here</a> for more info."
     ]
    }
   ],
   "source": [
    "import pandas as pd\n",
    "import matplotlib.pyplot as plt \n",
    "import numpy as np"
   ]
  },
  {
   "cell_type": "code",
   "execution_count": null,
   "metadata": {},
   "outputs": [],
   "source": []
  }
 ],
 "metadata": {
  "kernelspec": {
   "display_name": "base",
   "language": "python",
   "name": "python3"
  },
  "language_info": {
   "name": "python",
   "version": "3.9.12"
  },
  "orig_nbformat": 4
 },
 "nbformat": 4,
 "nbformat_minor": 2
}
